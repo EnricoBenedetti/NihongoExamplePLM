{
 "cells": [
  {
   "cell_type": "markdown",
   "metadata": {},
   "source": [
    "Load model/tokenizer, and data. Fine-tune and evaluate."
   ]
  },
  {
   "cell_type": "code",
   "execution_count": 1,
   "metadata": {},
   "outputs": [],
   "source": [
    "#pip install matplotlib evaluate accelerate -U fugashi unidic-lite"
   ]
  },
  {
   "cell_type": "code",
   "execution_count": 1,
   "metadata": {},
   "outputs": [],
   "source": [
    "import utils\n",
    "from pathlib import Path\n",
    "import wandb \n",
    "from transformers import AutoTokenizer, AutoModelForSequenceClassification, TrainingArguments, Trainer\n",
    "from datasets import load_dataset, Dataset, DatasetDict\n",
    "import numpy as np\n",
    "import pandas as pd\n",
    "import evaluate\n",
    "import torch\n",
    "from sklearn.metrics import confusion_matrix, ConfusionMatrixDisplay, classification_report\n",
    "import matplotlib.pyplot as plt\n",
    "import os\n",
    "\n",
    "from scipy.stats import pearsonr, spearmanr"
   ]
  },
  {
   "cell_type": "code",
   "execution_count": 3,
   "metadata": {},
   "outputs": [],
   "source": [
    "# set the wandb project where this run will be logged\n",
    "os.environ[\"WANDB_PROJECT\"]=\"JLPT-difficulty-classifier\"\n",
    "# save your trained model checkpoint to wandb\n",
    "os.environ[\"WANDB_LOG_MODEL\"]=\"true\"\n",
    "# turn off watch to log faster\n",
    "os.environ[\"WANDB_WATCH\"]=\"false\""
   ]
  },
  {
   "cell_type": "code",
   "execution_count": 4,
   "metadata": {},
   "outputs": [],
   "source": [
    "data_split_dir = Path('/data/enrico_benedetti/nihongoexample/data/Webscraping/splits_val')\n",
    "#gold_test_file = Path('/data/enrico_benedetti/nihongoexample/data/Webscraping/official_jlpt_gold/test.csv')\n",
    "models_dir = Path('/data/enrico_benedetti/nihongoexample/preliminary phase/models')\n",
    "log_dir = Path('/data/enrico_benedetti/nihongoexample/preliminary phase/logs')"
   ]
  },
  {
   "cell_type": "code",
   "execution_count": 4,
   "metadata": {},
   "outputs": [
    {
     "data": {
      "text/plain": [
       "{'N5': 0, 'N4': 1, 'N3': 2, 'N2': 3, 'N1': 4}"
      ]
     },
     "execution_count": 4,
     "metadata": {},
     "output_type": "execute_result"
    }
   ],
   "source": [
    "id2label = {0: \"N5\", 1: \"N4\", 2: \"N3\", 3: \"N2\", 4: \"N1\"}\n",
    "label2id = {v: k for k, v in id2label.items()}\n",
    "label2id"
   ]
  },
  {
   "cell_type": "code",
   "execution_count": 6,
   "metadata": {},
   "outputs": [
    {
     "name": "stderr",
     "output_type": "stream",
     "text": [
      "Some weights of the model checkpoint at cl-tohoku/bert-base-japanese-v3 were not used when initializing BertForSequenceClassification: ['cls.predictions.transform.dense.weight', 'cls.predictions.decoder.bias', 'cls.seq_relationship.weight', 'cls.predictions.decoder.weight', 'cls.predictions.transform.dense.bias', 'cls.predictions.bias', 'cls.seq_relationship.bias', 'cls.predictions.transform.LayerNorm.weight', 'cls.predictions.transform.LayerNorm.bias']\n",
      "- This IS expected if you are initializing BertForSequenceClassification from the checkpoint of a model trained on another task or with another architecture (e.g. initializing a BertForSequenceClassification model from a BertForPreTraining model).\n",
      "- This IS NOT expected if you are initializing BertForSequenceClassification from the checkpoint of a model that you expect to be exactly identical (initializing a BertForSequenceClassification model from a BertForSequenceClassification model).\n",
      "Some weights of BertForSequenceClassification were not initialized from the model checkpoint at cl-tohoku/bert-base-japanese-v3 and are newly initialized: ['classifier.weight', 'classifier.bias']\n",
      "You should probably TRAIN this model on a down-stream task to be able to use it for predictions and inference.\n"
     ]
    }
   ],
   "source": [
    "# docs, info at https://github.com/cl-tohoku/bert-japanese/\n",
    "tokenizer = AutoTokenizer.from_pretrained(\"cl-tohoku/bert-base-japanese-v3\")\n",
    "model = AutoModelForSequenceClassification.from_pretrained(\"cl-tohoku/bert-base-japanese-v3\", num_labels=5, id2label=id2label, label2id=label2id)"
   ]
  },
  {
   "cell_type": "code",
   "execution_count": 7,
   "metadata": {},
   "outputs": [
    {
     "name": "stdout",
     "output_type": "stream",
     "text": [
      "{'test': (879, 3), 'train': (4924, 3), 'val': (260, 3)}\n"
     ]
    }
   ],
   "source": [
    "only_train_data = False\n",
    "if only_train_data:\n",
    "    data_split_dir = Path('/data/enrico_benedetti/nihongoexample/data/Webscraping/splits')\n",
    "    train_file = str(data_split_dir/'train.csv')\n",
    "    # val_file = str(data_split_dir/'val.csv')\n",
    "    test_file = str(data_split_dir/'test.csv')\n",
    "    train = pd.read_csv(train_file, index_col=0)\n",
    "    # val = pd.read_csv(val_file, index_col=0)\n",
    "    test = pd.read_csv(test_file, index_col=0)\n",
    "    df_train = Dataset.from_pandas(train, split='train', preserve_index=False)\n",
    "    df_val = Dataset.from_pandas(train, split='val', preserve_index=False)\n",
    "    df_test = Dataset.from_pandas(test, split='test', preserve_index=False)\n",
    "    dataset = DatasetDict({'train': df_train, 'test': df_test})\n",
    "else:\n",
    "    data_split_dir = Path('/data/enrico_benedetti/nihongoexample/data/Webscraping/splits_val')\n",
    "    data_files = {'test': 'test.csv', 'train': 'train.csv', 'val': 'val.csv'}\n",
    "    dataset = load_dataset('csv', data_files=data_files, data_dir=data_split_dir)\n",
    "assert(list(np.unique(dataset[\"train\"]['level']))==['N1', 'N2', 'N3', 'N4', 'N5'])\n",
    "print(dataset.shape)"
   ]
  },
  {
   "cell_type": "code",
   "execution_count": 8,
   "metadata": {},
   "outputs": [
    {
     "data": {
      "text/plain": [
       "{'Unnamed: 0': 0, 'sentence': ' 医者たるもの、患者の命を優先に考えるべきだ。', 'level': 4}"
      ]
     },
     "execution_count": 8,
     "metadata": {},
     "output_type": "execute_result"
    }
   ],
   "source": [
    "# should test for all 3\n",
    "# map jlpt to numerical labels\n",
    "#print(dataset['train'][0])\n",
    "dataset = dataset.class_encode_column('level')\n",
    "dataset = dataset.align_labels_with_mapping(label2id=label2id, label_column='level')\n",
    "\n",
    "dataset['train'][0]"
   ]
  },
  {
   "cell_type": "code",
   "execution_count": 9,
   "metadata": {},
   "outputs": [],
   "source": [
    "# change names of columns to sentence and label\n",
    "\n",
    "# dataset = dataset.rename_column('example', 'sentence')\n",
    "dataset = dataset.rename_column(\"level\", \"labels\")"
   ]
  },
  {
   "cell_type": "code",
   "execution_count": 10,
   "metadata": {},
   "outputs": [],
   "source": [
    "# tokenizing with default everything\n",
    "\n",
    "def tokenize_function(examples):\n",
    "    return tokenizer(examples[\"sentence\"], truncation=True, padding=True)\n",
    "\n",
    "\n",
    "tokenized_dataset = dataset.map(tokenize_function, batched=True)"
   ]
  },
  {
   "cell_type": "code",
   "execution_count": 11,
   "metadata": {},
   "outputs": [
    {
     "data": {
      "text/plain": [
       "DatasetDict({\n",
       "    test: Dataset({\n",
       "        features: ['Unnamed: 0', 'sentence', 'labels', 'input_ids', 'token_type_ids', 'attention_mask'],\n",
       "        num_rows: 879\n",
       "    })\n",
       "    train: Dataset({\n",
       "        features: ['Unnamed: 0', 'sentence', 'labels', 'input_ids', 'token_type_ids', 'attention_mask'],\n",
       "        num_rows: 4924\n",
       "    })\n",
       "    val: Dataset({\n",
       "        features: ['Unnamed: 0', 'sentence', 'labels', 'input_ids', 'token_type_ids', 'attention_mask'],\n",
       "        num_rows: 260\n",
       "    })\n",
       "})"
      ]
     },
     "execution_count": 11,
     "metadata": {},
     "output_type": "execute_result"
    }
   ],
   "source": [
    "tokenized_dataset"
   ]
  },
  {
   "cell_type": "code",
   "execution_count": 12,
   "metadata": {},
   "outputs": [],
   "source": [
    "metric1 = evaluate.load('accuracy')\n",
    "metric2 = evaluate.combine(\n",
    "    [\n",
    "        evaluate.load(\"f1\"),\n",
    "        evaluate.load(\"precision\"),\n",
    "        evaluate.load('recall'),\n",
    "        #evaluate.load(\"accuracy\", average=None)\n",
    "    ]\n",
    ")\n",
    "\n",
    "def compute_metrics(eval_pred):\n",
    "    logits, labels = eval_pred\n",
    "    predictions = np.argmax(logits, axis=-1)\n",
    "    dict2 = metric2.compute(predictions=predictions, references=labels, average='weighted')\n",
    "    dict1 = metric1.compute(predictions=predictions, references=labels)\n",
    "    dict2[list(dict1.keys())[0]] = list(dict1.values())[0]\n",
    "\n",
    "    # also compute correlation coefficients\n",
    "    pearson = pearsonr(x=predictions, y=labels)\n",
    "    spearman = spearmanr(a=predictions, b=labels)\n",
    "\n",
    "    dict2['pearson'] = {'statistic': pearson.statistic, 'pvalue': pearson.pvalue}\n",
    "    dict2['spearman'] = {'statistic': spearman.statistic, 'pvalue': spearman.pvalue}\n",
    "\n",
    "    return dict2"
   ]
  },
  {
   "cell_type": "code",
   "execution_count": 13,
   "metadata": {},
   "outputs": [],
   "source": [
    "# dict2 = metric2.compute(predictions=[0,1], references=[1,2], average='micro')\n",
    "# dict1 = metric1.compute(predictions=[0,1], references=[1,2])\n",
    "# dict2[list(dict1.keys())[0]] = list(dict1.values())[0]\n",
    "# dict1, dict2"
   ]
  },
  {
   "cell_type": "code",
   "execution_count": 14,
   "metadata": {},
   "outputs": [],
   "source": [
    "# device = utils.get_freer_gpu()\n",
    "# print(device)\n",
    "# torch.cuda.set_device(torch.device(device))"
   ]
  },
  {
   "cell_type": "code",
   "execution_count": 15,
   "metadata": {},
   "outputs": [
    {
     "data": {
      "text/plain": [
       "False"
      ]
     },
     "execution_count": 15,
     "metadata": {},
     "output_type": "execute_result"
    }
   ],
   "source": [
    "only_train_data"
   ]
  },
  {
   "cell_type": "code",
   "execution_count": 16,
   "metadata": {},
   "outputs": [
    {
     "data": {
      "text/plain": [
       "device(type='cuda', index=0)"
      ]
     },
     "execution_count": 16,
     "metadata": {},
     "output_type": "execute_result"
    }
   ],
   "source": [
    "# instantiate trainer, pass everything\n",
    "# https://huggingface.co/transformers/v3.0.2/main_classes/trainer.html#transformers.TrainingArguments\n",
    "\n",
    "#train on cpu forn now\n",
    "# device = torch.device('cpu')\n",
    "# device = torch.device('cuda')\n",
    "#model = model.to(device)\n",
    "if only_train_data:\n",
    "    training_args = TrainingArguments(\n",
    "        #    label_names = ['level'],\n",
    "        report_to=\"wandb\",\n",
    "        output_dir=models_dir,\n",
    "        learning_rate=2e-5,\n",
    "        logging_steps=100,\n",
    "        do_train=True,\n",
    "        do_eval=False,\n",
    "        per_device_train_batch_size=8,\n",
    "        num_train_epochs=10,\n",
    "        adam_beta1=0.9,\n",
    "        adam_beta2=0.999,\n",
    "        adam_epsilon=1e-7,\n",
    "        weight_decay=0.01\n",
    "        )\n",
    "    # automatically shuffles the examples\n",
    "    trainer = Trainer(\n",
    "        model=model,\n",
    "        args=training_args,\n",
    "        train_dataset=tokenized_dataset['train'],\n",
    "        tokenizer=tokenizer,\n",
    "        compute_metrics=compute_metrics,\n",
    "    )\n",
    "\n",
    "else:\n",
    "    training_args = TrainingArguments(\n",
    "        \n",
    "    #    label_names = ['level'],\n",
    "        report_to=\"wandb\",\n",
    "        output_dir=models_dir,\n",
    "        learning_rate=2e-5,\n",
    "        logging_steps=100,\n",
    "        do_train=True,\n",
    "        do_eval=True,\n",
    "        per_device_train_batch_size=8,\n",
    "        per_device_eval_batch_size=8,\n",
    "        num_train_epochs=10,\n",
    "        prediction_loss_only=False,\n",
    "        adam_beta1=0.9,\n",
    "        adam_beta2=0.999,\n",
    "        adam_epsilon=1e-7,\n",
    "        weight_decay=0.01,\n",
    "        evaluation_strategy=\"epoch\",\n",
    "        save_strategy=\"epoch\",\n",
    "        load_best_model_at_end=True,\n",
    "        save_total_limit = 3\n",
    "    )\n",
    "    # automatically shuffles the examples\n",
    "    trainer = Trainer(\n",
    "        model=model,\n",
    "        args=training_args,\n",
    "        train_dataset=tokenized_dataset['train'],\n",
    "        eval_dataset=tokenized_dataset['val'],\n",
    "        tokenizer=tokenizer,\n",
    "        compute_metrics=compute_metrics,\n",
    "    )\n",
    "\n",
    "#training_args.place_model_on_device(\"cpu\")\n",
    "training_args.device"
   ]
  },
  {
   "cell_type": "code",
   "execution_count": 17,
   "metadata": {},
   "outputs": [
    {
     "name": "stderr",
     "output_type": "stream",
     "text": [
      "The following columns in the training set don't have a corresponding argument in `BertForSequenceClassification.forward` and have been ignored: Unnamed: 0, sentence. If Unnamed: 0, sentence are not expected by `BertForSequenceClassification.forward`,  you can safely ignore this message.\n",
      "/home/enrico_benedetti/anaconda3/envs/nlp_env/lib/python3.8/site-packages/transformers/optimization.py:306: FutureWarning: This implementation of AdamW is deprecated and will be removed in a future version. Use the PyTorch implementation torch.optim.AdamW instead, or set `no_deprecation_warning=True` to disable this warning\n",
      "  warnings.warn(\n",
      "***** Running training *****\n",
      "  Num examples = 4924\n",
      "  Num Epochs = 10\n",
      "  Instantaneous batch size per device = 8\n",
      "  Total train batch size (w. parallel, distributed & accumulation) = 64\n",
      "  Gradient Accumulation steps = 1\n",
      "  Total optimization steps = 770\n",
      "  Number of trainable parameters = 111211013\n",
      "Automatic Weights & Biases logging enabled, to disable set os.environ[\"WANDB_DISABLED\"] = \"true\"\n",
      "Failed to detect the name of this notebook, you can set it manually with the WANDB_NOTEBOOK_NAME environment variable to enable code saving.\n",
      "\u001b[34m\u001b[1mwandb\u001b[0m: Currently logged in as: \u001b[33mbennexx\u001b[0m. Use \u001b[1m`wandb login --relogin`\u001b[0m to force relogin\n"
     ]
    },
    {
     "data": {
      "text/html": [
       "wandb version 0.16.2 is available!  To upgrade, please run:\n",
       " $ pip install wandb --upgrade"
      ],
      "text/plain": [
       "<IPython.core.display.HTML object>"
      ]
     },
     "metadata": {},
     "output_type": "display_data"
    },
    {
     "data": {
      "text/html": [
       "Tracking run with wandb version 0.16.1"
      ],
      "text/plain": [
       "<IPython.core.display.HTML object>"
      ]
     },
     "metadata": {},
     "output_type": "display_data"
    },
    {
     "data": {
      "text/html": [
       "Run data is saved locally in <code>/disks/disk00/enrico_benedetti/nihongoexample/code/scripts/wandb/run-20240118_192541-0mtus4po</code>"
      ],
      "text/plain": [
       "<IPython.core.display.HTML object>"
      ]
     },
     "metadata": {},
     "output_type": "display_data"
    },
    {
     "data": {
      "text/html": [
       "Syncing run <strong><a href='https://wandb.ai/bennexx/jlpt-difficulty-classifier/runs/0mtus4po' target=\"_blank\">/data/enrico_benedetti/nihongoexample/preliminary phase/models</a></strong> to <a href='https://wandb.ai/bennexx/jlpt-difficulty-classifier' target=\"_blank\">Weights & Biases</a> (<a href='https://wandb.me/run' target=\"_blank\">docs</a>)<br/>"
      ],
      "text/plain": [
       "<IPython.core.display.HTML object>"
      ]
     },
     "metadata": {},
     "output_type": "display_data"
    },
    {
     "data": {
      "text/html": [
       " View project at <a href='https://wandb.ai/bennexx/jlpt-difficulty-classifier' target=\"_blank\">https://wandb.ai/bennexx/jlpt-difficulty-classifier</a>"
      ],
      "text/plain": [
       "<IPython.core.display.HTML object>"
      ]
     },
     "metadata": {},
     "output_type": "display_data"
    },
    {
     "data": {
      "text/html": [
       " View run at <a href='https://wandb.ai/bennexx/jlpt-difficulty-classifier/runs/0mtus4po' target=\"_blank\">https://wandb.ai/bennexx/jlpt-difficulty-classifier/runs/0mtus4po</a>"
      ],
      "text/plain": [
       "<IPython.core.display.HTML object>"
      ]
     },
     "metadata": {},
     "output_type": "display_data"
    },
    {
     "name": "stderr",
     "output_type": "stream",
     "text": [
      "/home/enrico_benedetti/anaconda3/envs/nlp_env/lib/python3.8/site-packages/torch/nn/parallel/_functions.py:68: UserWarning: Was asked to gather along dimension 0, but all input tensors were scalars; will instead unsqueeze and return a vector.\n",
      "  warnings.warn('Was asked to gather along dimension 0, but all '\n"
     ]
    },
    {
     "data": {
      "text/html": [
       "\n",
       "    <div>\n",
       "      \n",
       "      <progress value='770' max='770' style='width:300px; height:20px; vertical-align: middle;'></progress>\n",
       "      [770/770 06:26, Epoch 10/10]\n",
       "    </div>\n",
       "    <table border=\"1\" class=\"dataframe\">\n",
       "  <thead>\n",
       " <tr style=\"text-align: left;\">\n",
       "      <th>Epoch</th>\n",
       "      <th>Training Loss</th>\n",
       "      <th>Validation Loss</th>\n",
       "      <th>F1</th>\n",
       "      <th>Precision</th>\n",
       "      <th>Recall</th>\n",
       "      <th>Accuracy</th>\n",
       "      <th>Pearson</th>\n",
       "      <th>Spearman</th>\n",
       "    </tr>\n",
       "  </thead>\n",
       "  <tbody>\n",
       "    <tr>\n",
       "      <td>1</td>\n",
       "      <td>No log</td>\n",
       "      <td>1.081716</td>\n",
       "      <td>0.512150</td>\n",
       "      <td>0.574144</td>\n",
       "      <td>0.538462</td>\n",
       "      <td>0.538462</td>\n",
       "      <td>{'statistic': 0.7315321254799426, 'pvalue': 8.216522691512351e-45}</td>\n",
       "      <td>{'statistic': 0.740067235083334, 'pvalue': 2.372245801575872e-46}</td>\n",
       "    </tr>\n",
       "    <tr>\n",
       "      <td>2</td>\n",
       "      <td>1.285400</td>\n",
       "      <td>0.736562</td>\n",
       "      <td>0.683290</td>\n",
       "      <td>0.691634</td>\n",
       "      <td>0.688462</td>\n",
       "      <td>0.688462</td>\n",
       "      <td>{'statistic': 0.8537950437870736, 'pvalue': 4.2054125255581313e-75}</td>\n",
       "      <td>{'statistic': 0.8607539192321464, 'pvalue': 1.253505338740614e-77}</td>\n",
       "    </tr>\n",
       "    <tr>\n",
       "      <td>3</td>\n",
       "      <td>0.767700</td>\n",
       "      <td>0.644334</td>\n",
       "      <td>0.762996</td>\n",
       "      <td>0.774760</td>\n",
       "      <td>0.761538</td>\n",
       "      <td>0.761538</td>\n",
       "      <td>{'statistic': 0.8846885436253024, 'pvalue': 1.7215140350876817e-87}</td>\n",
       "      <td>{'statistic': 0.8887741942117423, 'pvalue': 2.1588247269911423e-89}</td>\n",
       "    </tr>\n",
       "    <tr>\n",
       "      <td>4</td>\n",
       "      <td>0.473100</td>\n",
       "      <td>0.594489</td>\n",
       "      <td>0.805811</td>\n",
       "      <td>0.818146</td>\n",
       "      <td>0.803846</td>\n",
       "      <td>0.803846</td>\n",
       "      <td>{'statistic': 0.9096808286867215, 'pvalue': 1.8881103001481483e-100}</td>\n",
       "      <td>{'statistic': 0.9121920783394821, 'pvalue': 5.870824504691129e-102}</td>\n",
       "    </tr>\n",
       "    <tr>\n",
       "      <td>5</td>\n",
       "      <td>0.473100</td>\n",
       "      <td>0.598083</td>\n",
       "      <td>0.802266</td>\n",
       "      <td>0.813262</td>\n",
       "      <td>0.800000</td>\n",
       "      <td>0.800000</td>\n",
       "      <td>{'statistic': 0.9028621646109533, 'pvalue': 1.433382322136185e-96}</td>\n",
       "      <td>{'statistic': 0.9039343591205539, 'pvalue': 3.6777870083186916e-97}</td>\n",
       "    </tr>\n",
       "    <tr>\n",
       "      <td>6</td>\n",
       "      <td>0.279200</td>\n",
       "      <td>0.598141</td>\n",
       "      <td>0.824508</td>\n",
       "      <td>0.834341</td>\n",
       "      <td>0.823077</td>\n",
       "      <td>0.823077</td>\n",
       "      <td>{'statistic': 0.9090775627118475, 'pvalue': 4.281216404209935e-100}</td>\n",
       "      <td>{'statistic': 0.9077911795626115, 'pvalue': 2.4070973902952044e-99}</td>\n",
       "    </tr>\n",
       "    <tr>\n",
       "      <td>7</td>\n",
       "      <td>0.184200</td>\n",
       "      <td>0.601232</td>\n",
       "      <td>0.825003</td>\n",
       "      <td>0.836411</td>\n",
       "      <td>0.823077</td>\n",
       "      <td>0.823077</td>\n",
       "      <td>{'statistic': 0.9138748645184298, 'pvalue': 5.408782644822959e-103}</td>\n",
       "      <td>{'statistic': 0.914928287013598, 'pvalue': 1.1856599856060119e-103}</td>\n",
       "    </tr>\n",
       "    <tr>\n",
       "      <td>8</td>\n",
       "      <td>0.129700</td>\n",
       "      <td>0.587756</td>\n",
       "      <td>0.839766</td>\n",
       "      <td>0.849448</td>\n",
       "      <td>0.838462</td>\n",
       "      <td>0.838462</td>\n",
       "      <td>{'statistic': 0.9214556684240018, 'pvalue': 6.15278218257436e-108}</td>\n",
       "      <td>{'statistic': 0.9221028395522967, 'pvalue': 2.208565346621335e-108}</td>\n",
       "    </tr>\n",
       "    <tr>\n",
       "      <td>9</td>\n",
       "      <td>0.129700</td>\n",
       "      <td>0.611374</td>\n",
       "      <td>0.836152</td>\n",
       "      <td>0.846590</td>\n",
       "      <td>0.834615</td>\n",
       "      <td>0.834615</td>\n",
       "      <td>{'statistic': 0.9177601216629251, 'pvalue': 1.814545217239263e-105}</td>\n",
       "      <td>{'statistic': 0.9179913009200507, 'pvalue': 1.2814606792448696e-105}</td>\n",
       "    </tr>\n",
       "    <tr>\n",
       "      <td>10</td>\n",
       "      <td>0.095000</td>\n",
       "      <td>0.595576</td>\n",
       "      <td>0.847744</td>\n",
       "      <td>0.855961</td>\n",
       "      <td>0.846154</td>\n",
       "      <td>0.846154</td>\n",
       "      <td>{'statistic': 0.9277097918941118, 'pvalue': 2.0876262714800853e-112}</td>\n",
       "      <td>{'statistic': 0.9276529154461246, 'pvalue': 2.301904697056057e-112}</td>\n",
       "    </tr>\n",
       "  </tbody>\n",
       "</table><p>"
      ],
      "text/plain": [
       "<IPython.core.display.HTML object>"
      ]
     },
     "metadata": {},
     "output_type": "display_data"
    },
    {
     "name": "stderr",
     "output_type": "stream",
     "text": [
      "The following columns in the evaluation set don't have a corresponding argument in `BertForSequenceClassification.forward` and have been ignored: Unnamed: 0, sentence. If Unnamed: 0, sentence are not expected by `BertForSequenceClassification.forward`,  you can safely ignore this message.\n",
      "***** Running Evaluation *****\n",
      "  Num examples = 260\n",
      "  Batch size = 64\n",
      "Saving model checkpoint to /data/enrico_benedetti/nihongoexample/preliminary phase/models/checkpoint-77\n",
      "Configuration saved in /data/enrico_benedetti/nihongoexample/preliminary phase/models/checkpoint-77/config.json\n",
      "Model weights saved in /data/enrico_benedetti/nihongoexample/preliminary phase/models/checkpoint-77/pytorch_model.bin\n",
      "tokenizer config file saved in /data/enrico_benedetti/nihongoexample/preliminary phase/models/checkpoint-77/tokenizer_config.json\n",
      "Special tokens file saved in /data/enrico_benedetti/nihongoexample/preliminary phase/models/checkpoint-77/special_tokens_map.json\n",
      "Deleting older checkpoint [/data/enrico_benedetti/nihongoexample/preliminary phase/models/checkpoint-312] due to args.save_total_limit\n",
      "Deleting older checkpoint [/data/enrico_benedetti/nihongoexample/preliminary phase/models/checkpoint-351] due to args.save_total_limit\n",
      "/home/enrico_benedetti/anaconda3/envs/nlp_env/lib/python3.8/site-packages/torch/nn/parallel/_functions.py:68: UserWarning: Was asked to gather along dimension 0, but all input tensors were scalars; will instead unsqueeze and return a vector.\n",
      "  warnings.warn('Was asked to gather along dimension 0, but all '\n",
      "The following columns in the evaluation set don't have a corresponding argument in `BertForSequenceClassification.forward` and have been ignored: Unnamed: 0, sentence. If Unnamed: 0, sentence are not expected by `BertForSequenceClassification.forward`,  you can safely ignore this message.\n",
      "***** Running Evaluation *****\n",
      "  Num examples = 260\n",
      "  Batch size = 64\n",
      "Saving model checkpoint to /data/enrico_benedetti/nihongoexample/preliminary phase/models/checkpoint-154\n",
      "Configuration saved in /data/enrico_benedetti/nihongoexample/preliminary phase/models/checkpoint-154/config.json\n",
      "Model weights saved in /data/enrico_benedetti/nihongoexample/preliminary phase/models/checkpoint-154/pytorch_model.bin\n",
      "tokenizer config file saved in /data/enrico_benedetti/nihongoexample/preliminary phase/models/checkpoint-154/tokenizer_config.json\n",
      "Special tokens file saved in /data/enrico_benedetti/nihongoexample/preliminary phase/models/checkpoint-154/special_tokens_map.json\n",
      "Deleting older checkpoint [/data/enrico_benedetti/nihongoexample/preliminary phase/models/checkpoint-390] due to args.save_total_limit\n",
      "/home/enrico_benedetti/anaconda3/envs/nlp_env/lib/python3.8/site-packages/torch/nn/parallel/_functions.py:68: UserWarning: Was asked to gather along dimension 0, but all input tensors were scalars; will instead unsqueeze and return a vector.\n",
      "  warnings.warn('Was asked to gather along dimension 0, but all '\n",
      "The following columns in the evaluation set don't have a corresponding argument in `BertForSequenceClassification.forward` and have been ignored: Unnamed: 0, sentence. If Unnamed: 0, sentence are not expected by `BertForSequenceClassification.forward`,  you can safely ignore this message.\n",
      "***** Running Evaluation *****\n",
      "  Num examples = 260\n",
      "  Batch size = 64\n",
      "Saving model checkpoint to /data/enrico_benedetti/nihongoexample/preliminary phase/models/checkpoint-231\n",
      "Configuration saved in /data/enrico_benedetti/nihongoexample/preliminary phase/models/checkpoint-231/config.json\n",
      "Model weights saved in /data/enrico_benedetti/nihongoexample/preliminary phase/models/checkpoint-231/pytorch_model.bin\n",
      "tokenizer config file saved in /data/enrico_benedetti/nihongoexample/preliminary phase/models/checkpoint-231/tokenizer_config.json\n",
      "Special tokens file saved in /data/enrico_benedetti/nihongoexample/preliminary phase/models/checkpoint-231/special_tokens_map.json\n",
      "Deleting older checkpoint [/data/enrico_benedetti/nihongoexample/preliminary phase/models/checkpoint-500] due to args.save_total_limit\n",
      "/home/enrico_benedetti/anaconda3/envs/nlp_env/lib/python3.8/site-packages/torch/nn/parallel/_functions.py:68: UserWarning: Was asked to gather along dimension 0, but all input tensors were scalars; will instead unsqueeze and return a vector.\n",
      "  warnings.warn('Was asked to gather along dimension 0, but all '\n",
      "The following columns in the evaluation set don't have a corresponding argument in `BertForSequenceClassification.forward` and have been ignored: Unnamed: 0, sentence. If Unnamed: 0, sentence are not expected by `BertForSequenceClassification.forward`,  you can safely ignore this message.\n",
      "***** Running Evaluation *****\n",
      "  Num examples = 260\n",
      "  Batch size = 64\n",
      "Saving model checkpoint to /data/enrico_benedetti/nihongoexample/preliminary phase/models/checkpoint-308\n",
      "Configuration saved in /data/enrico_benedetti/nihongoexample/preliminary phase/models/checkpoint-308/config.json\n",
      "Model weights saved in /data/enrico_benedetti/nihongoexample/preliminary phase/models/checkpoint-308/pytorch_model.bin\n",
      "tokenizer config file saved in /data/enrico_benedetti/nihongoexample/preliminary phase/models/checkpoint-308/tokenizer_config.json\n",
      "Special tokens file saved in /data/enrico_benedetti/nihongoexample/preliminary phase/models/checkpoint-308/special_tokens_map.json\n",
      "Deleting older checkpoint [/data/enrico_benedetti/nihongoexample/preliminary phase/models/checkpoint-77] due to args.save_total_limit\n",
      "/home/enrico_benedetti/anaconda3/envs/nlp_env/lib/python3.8/site-packages/torch/nn/parallel/_functions.py:68: UserWarning: Was asked to gather along dimension 0, but all input tensors were scalars; will instead unsqueeze and return a vector.\n",
      "  warnings.warn('Was asked to gather along dimension 0, but all '\n",
      "The following columns in the evaluation set don't have a corresponding argument in `BertForSequenceClassification.forward` and have been ignored: Unnamed: 0, sentence. If Unnamed: 0, sentence are not expected by `BertForSequenceClassification.forward`,  you can safely ignore this message.\n",
      "***** Running Evaluation *****\n",
      "  Num examples = 260\n",
      "  Batch size = 64\n",
      "Saving model checkpoint to /data/enrico_benedetti/nihongoexample/preliminary phase/models/checkpoint-385\n",
      "Configuration saved in /data/enrico_benedetti/nihongoexample/preliminary phase/models/checkpoint-385/config.json\n",
      "Model weights saved in /data/enrico_benedetti/nihongoexample/preliminary phase/models/checkpoint-385/pytorch_model.bin\n",
      "tokenizer config file saved in /data/enrico_benedetti/nihongoexample/preliminary phase/models/checkpoint-385/tokenizer_config.json\n",
      "Special tokens file saved in /data/enrico_benedetti/nihongoexample/preliminary phase/models/checkpoint-385/special_tokens_map.json\n",
      "Deleting older checkpoint [/data/enrico_benedetti/nihongoexample/preliminary phase/models/checkpoint-154] due to args.save_total_limit\n",
      "/home/enrico_benedetti/anaconda3/envs/nlp_env/lib/python3.8/site-packages/torch/nn/parallel/_functions.py:68: UserWarning: Was asked to gather along dimension 0, but all input tensors were scalars; will instead unsqueeze and return a vector.\n",
      "  warnings.warn('Was asked to gather along dimension 0, but all '\n",
      "The following columns in the evaluation set don't have a corresponding argument in `BertForSequenceClassification.forward` and have been ignored: Unnamed: 0, sentence. If Unnamed: 0, sentence are not expected by `BertForSequenceClassification.forward`,  you can safely ignore this message.\n",
      "***** Running Evaluation *****\n",
      "  Num examples = 260\n",
      "  Batch size = 64\n",
      "Saving model checkpoint to /data/enrico_benedetti/nihongoexample/preliminary phase/models/checkpoint-462\n",
      "Configuration saved in /data/enrico_benedetti/nihongoexample/preliminary phase/models/checkpoint-462/config.json\n",
      "Model weights saved in /data/enrico_benedetti/nihongoexample/preliminary phase/models/checkpoint-462/pytorch_model.bin\n",
      "tokenizer config file saved in /data/enrico_benedetti/nihongoexample/preliminary phase/models/checkpoint-462/tokenizer_config.json\n",
      "Special tokens file saved in /data/enrico_benedetti/nihongoexample/preliminary phase/models/checkpoint-462/special_tokens_map.json\n",
      "Deleting older checkpoint [/data/enrico_benedetti/nihongoexample/preliminary phase/models/checkpoint-231] due to args.save_total_limit\n",
      "/home/enrico_benedetti/anaconda3/envs/nlp_env/lib/python3.8/site-packages/torch/nn/parallel/_functions.py:68: UserWarning: Was asked to gather along dimension 0, but all input tensors were scalars; will instead unsqueeze and return a vector.\n",
      "  warnings.warn('Was asked to gather along dimension 0, but all '\n",
      "The following columns in the evaluation set don't have a corresponding argument in `BertForSequenceClassification.forward` and have been ignored: Unnamed: 0, sentence. If Unnamed: 0, sentence are not expected by `BertForSequenceClassification.forward`,  you can safely ignore this message.\n",
      "***** Running Evaluation *****\n",
      "  Num examples = 260\n",
      "  Batch size = 64\n",
      "Saving model checkpoint to /data/enrico_benedetti/nihongoexample/preliminary phase/models/checkpoint-539\n",
      "Configuration saved in /data/enrico_benedetti/nihongoexample/preliminary phase/models/checkpoint-539/config.json\n",
      "Model weights saved in /data/enrico_benedetti/nihongoexample/preliminary phase/models/checkpoint-539/pytorch_model.bin\n",
      "tokenizer config file saved in /data/enrico_benedetti/nihongoexample/preliminary phase/models/checkpoint-539/tokenizer_config.json\n",
      "Special tokens file saved in /data/enrico_benedetti/nihongoexample/preliminary phase/models/checkpoint-539/special_tokens_map.json\n",
      "Deleting older checkpoint [/data/enrico_benedetti/nihongoexample/preliminary phase/models/checkpoint-385] due to args.save_total_limit\n",
      "/home/enrico_benedetti/anaconda3/envs/nlp_env/lib/python3.8/site-packages/torch/nn/parallel/_functions.py:68: UserWarning: Was asked to gather along dimension 0, but all input tensors were scalars; will instead unsqueeze and return a vector.\n",
      "  warnings.warn('Was asked to gather along dimension 0, but all '\n",
      "The following columns in the evaluation set don't have a corresponding argument in `BertForSequenceClassification.forward` and have been ignored: Unnamed: 0, sentence. If Unnamed: 0, sentence are not expected by `BertForSequenceClassification.forward`,  you can safely ignore this message.\n",
      "***** Running Evaluation *****\n",
      "  Num examples = 260\n",
      "  Batch size = 64\n",
      "Saving model checkpoint to /data/enrico_benedetti/nihongoexample/preliminary phase/models/checkpoint-616\n",
      "Configuration saved in /data/enrico_benedetti/nihongoexample/preliminary phase/models/checkpoint-616/config.json\n",
      "Model weights saved in /data/enrico_benedetti/nihongoexample/preliminary phase/models/checkpoint-616/pytorch_model.bin\n",
      "tokenizer config file saved in /data/enrico_benedetti/nihongoexample/preliminary phase/models/checkpoint-616/tokenizer_config.json\n",
      "Special tokens file saved in /data/enrico_benedetti/nihongoexample/preliminary phase/models/checkpoint-616/special_tokens_map.json\n",
      "Deleting older checkpoint [/data/enrico_benedetti/nihongoexample/preliminary phase/models/checkpoint-308] due to args.save_total_limit\n",
      "/home/enrico_benedetti/anaconda3/envs/nlp_env/lib/python3.8/site-packages/torch/nn/parallel/_functions.py:68: UserWarning: Was asked to gather along dimension 0, but all input tensors were scalars; will instead unsqueeze and return a vector.\n",
      "  warnings.warn('Was asked to gather along dimension 0, but all '\n",
      "The following columns in the evaluation set don't have a corresponding argument in `BertForSequenceClassification.forward` and have been ignored: Unnamed: 0, sentence. If Unnamed: 0, sentence are not expected by `BertForSequenceClassification.forward`,  you can safely ignore this message.\n",
      "***** Running Evaluation *****\n",
      "  Num examples = 260\n",
      "  Batch size = 64\n",
      "Saving model checkpoint to /data/enrico_benedetti/nihongoexample/preliminary phase/models/checkpoint-693\n",
      "Configuration saved in /data/enrico_benedetti/nihongoexample/preliminary phase/models/checkpoint-693/config.json\n",
      "Model weights saved in /data/enrico_benedetti/nihongoexample/preliminary phase/models/checkpoint-693/pytorch_model.bin\n",
      "tokenizer config file saved in /data/enrico_benedetti/nihongoexample/preliminary phase/models/checkpoint-693/tokenizer_config.json\n",
      "Special tokens file saved in /data/enrico_benedetti/nihongoexample/preliminary phase/models/checkpoint-693/special_tokens_map.json\n",
      "Deleting older checkpoint [/data/enrico_benedetti/nihongoexample/preliminary phase/models/checkpoint-462] due to args.save_total_limit\n",
      "/home/enrico_benedetti/anaconda3/envs/nlp_env/lib/python3.8/site-packages/torch/nn/parallel/_functions.py:68: UserWarning: Was asked to gather along dimension 0, but all input tensors were scalars; will instead unsqueeze and return a vector.\n",
      "  warnings.warn('Was asked to gather along dimension 0, but all '\n",
      "The following columns in the evaluation set don't have a corresponding argument in `BertForSequenceClassification.forward` and have been ignored: Unnamed: 0, sentence. If Unnamed: 0, sentence are not expected by `BertForSequenceClassification.forward`,  you can safely ignore this message.\n",
      "***** Running Evaluation *****\n",
      "  Num examples = 260\n",
      "  Batch size = 64\n",
      "Saving model checkpoint to /data/enrico_benedetti/nihongoexample/preliminary phase/models/checkpoint-770\n",
      "Configuration saved in /data/enrico_benedetti/nihongoexample/preliminary phase/models/checkpoint-770/config.json\n",
      "Model weights saved in /data/enrico_benedetti/nihongoexample/preliminary phase/models/checkpoint-770/pytorch_model.bin\n",
      "tokenizer config file saved in /data/enrico_benedetti/nihongoexample/preliminary phase/models/checkpoint-770/tokenizer_config.json\n",
      "Special tokens file saved in /data/enrico_benedetti/nihongoexample/preliminary phase/models/checkpoint-770/special_tokens_map.json\n",
      "Deleting older checkpoint [/data/enrico_benedetti/nihongoexample/preliminary phase/models/checkpoint-539] due to args.save_total_limit\n",
      "\n",
      "\n",
      "Training completed. Do not forget to share your model on huggingface.co/models =)\n",
      "\n",
      "\n",
      "Loading best model from /data/enrico_benedetti/nihongoexample/preliminary phase/models/checkpoint-616 (score: 0.5877564549446106).\n",
      "Saving model checkpoint to /tmp/tmp7d4z1ty9\n",
      "Configuration saved in /tmp/tmp7d4z1ty9/config.json\n",
      "Model weights saved in /tmp/tmp7d4z1ty9/pytorch_model.bin\n",
      "tokenizer config file saved in /tmp/tmp7d4z1ty9/tokenizer_config.json\n",
      "Special tokens file saved in /tmp/tmp7d4z1ty9/special_tokens_map.json\n"
     ]
    },
    {
     "data": {
      "text/plain": [
       "TrainOutput(global_step=770, training_loss=0.424492901021784, metrics={'train_runtime': 409.1342, 'train_samples_per_second': 120.352, 'train_steps_per_second': 1.882, 'total_flos': 2403933685191600.0, 'train_loss': 0.424492901021784, 'epoch': 10.0})"
      ]
     },
     "execution_count": 17,
     "metadata": {},
     "output_type": "execute_result"
    }
   ],
   "source": [
    "trainer.train()\n",
    "#trainer.evaluate(eval_dataset=tokenized_dataset[\"test\"])"
   ]
  },
  {
   "cell_type": "code",
   "execution_count": 18,
   "metadata": {},
   "outputs": [],
   "source": [
    "# on different splits of the test\n",
    "if only_train_data:\n",
    "    evaluation_sets = {'test': tokenized_dataset['test']}\n",
    "else:\n",
    "    evaluation_sets = {'test': tokenized_dataset['test'],\n",
    "                'val': tokenized_dataset['val']}\n",
    "evaluation_results = {}\n",
    "# for source in sources:\n",
    "#     test_sets[source] = tokenized_dataset['test'].filter(lambda example: example['source'] == source)"
   ]
  },
  {
   "cell_type": "code",
   "execution_count": 19,
   "metadata": {},
   "outputs": [
    {
     "name": "stderr",
     "output_type": "stream",
     "text": [
      "The following columns in the test set don't have a corresponding argument in `BertForSequenceClassification.forward` and have been ignored: Unnamed: 0, sentence. If Unnamed: 0, sentence are not expected by `BertForSequenceClassification.forward`,  you can safely ignore this message.\n",
      "***** Running Prediction *****\n",
      "  Num examples = 879\n",
      "  Batch size = 64\n",
      "/home/enrico_benedetti/anaconda3/envs/nlp_env/lib/python3.8/site-packages/torch/nn/parallel/_functions.py:68: UserWarning: Was asked to gather along dimension 0, but all input tensors were scalars; will instead unsqueeze and return a vector.\n",
      "  warnings.warn('Was asked to gather along dimension 0, but all '\n"
     ]
    },
    {
     "data": {
      "text/html": [],
      "text/plain": [
       "<IPython.core.display.HTML object>"
      ]
     },
     "metadata": {},
     "output_type": "display_data"
    },
    {
     "name": "stdout",
     "output_type": "stream",
     "text": [
      "              precision    recall  f1-score   support\n",
      "\n",
      "          N5       0.62      0.66      0.64       145\n",
      "          N4       0.34      0.36      0.35       143\n",
      "          N3       0.33      0.67      0.45       197\n",
      "          N2       0.26      0.20      0.23       192\n",
      "          N1       0.59      0.08      0.15       202\n",
      "\n",
      "    accuracy                           0.38       879\n",
      "   macro avg       0.43      0.39      0.36       879\n",
      "weighted avg       0.42      0.38      0.34       879\n",
      "\n"
     ]
    },
    {
     "data": {
      "image/png": "[encoded data removed]",
      "text/plain": [
       "<Figure size 640x480 with 2 Axes>"
      ]
     },
     "metadata": {},
     "output_type": "display_data"
    },
    {
     "name": "stderr",
     "output_type": "stream",
     "text": [
      "The following columns in the test set don't have a corresponding argument in `BertForSequenceClassification.forward` and have been ignored: Unnamed: 0, sentence. If Unnamed: 0, sentence are not expected by `BertForSequenceClassification.forward`,  you can safely ignore this message.\n",
      "***** Running Prediction *****\n",
      "  Num examples = 260\n",
      "  Batch size = 64\n",
      "/home/enrico_benedetti/anaconda3/envs/nlp_env/lib/python3.8/site-packages/torch/nn/parallel/_functions.py:68: UserWarning: Was asked to gather along dimension 0, but all input tensors were scalars; will instead unsqueeze and return a vector.\n",
      "  warnings.warn('Was asked to gather along dimension 0, but all '\n"
     ]
    },
    {
     "data": {
      "text/html": [],
      "text/plain": [
       "<IPython.core.display.HTML object>"
      ]
     },
     "metadata": {},
     "output_type": "display_data"
    },
    {
     "name": "stdout",
     "output_type": "stream",
     "text": [
      "              precision    recall  f1-score   support\n",
      "\n",
      "          N5       0.88      0.88      0.88        25\n",
      "          N4       0.90      0.89      0.90        53\n",
      "          N3       0.78      0.90      0.84        62\n",
      "          N2       0.71      0.79      0.75        47\n",
      "          N1       0.95      0.77      0.85        73\n",
      "\n",
      "    accuracy                           0.84       260\n",
      "   macro avg       0.84      0.84      0.84       260\n",
      "weighted avg       0.85      0.84      0.84       260\n",
      "\n"
     ]
    },
    {
     "data": {
      "image/png": "[encoded data removed]",
      "text/plain": [
       "<Figure size 640x480 with 2 Axes>"
      ]
     },
     "metadata": {},
     "output_type": "display_data"
    }
   ],
   "source": [
    "# on test sets\n",
    "for key in evaluation_sets.keys():\n",
    "    evaluation_results[key] = trainer.predict(evaluation_sets[key])\n",
    "    evaluation_result = evaluation_results[key]\n",
    "    # get predictions and charts for each key\n",
    "    predicted_label_ids = np.argmax(evaluation_result.predictions, axis=-1)\n",
    "    conf_matrix = confusion_matrix(y_true = evaluation_result.label_ids, y_pred = predicted_label_ids, normalize=None)\n",
    "    class_report = classification_report(y_true = evaluation_result.label_ids, y_pred = predicted_label_ids, labels = list(id2label.keys()), target_names=list(id2label.values()))\n",
    "    print(class_report)\n",
    "    wandb.log({f'class_report_{key}': class_report})\n",
    "    disp = ConfusionMatrixDisplay(conf_matrix, display_labels=list(label2id.keys()))\n",
    "    disp.plot()\n",
    "    wandb.log({f\"conf_matrix_{key}\": plt})\n",
    "    plt.show()\n",
    "    "
   ]
  },
  {
   "cell_type": "code",
   "execution_count": 20,
   "metadata": {},
   "outputs": [
    {
     "data": {
      "application/vnd.jupyter.widget-view+json": {
       "model_id": "ad3f6172e07d4bb786efea7463de0323",
       "version_major": 2,
       "version_minor": 0
      },
      "text/plain": [
       "VBox(children=(Label(value='424.534 MB of 424.576 MB uploaded\\r'), FloatProgress(value=0.9999021743212625, max…"
      ]
     },
     "metadata": {},
     "output_type": "display_data"
    },
    {
     "name": "stderr",
     "output_type": "stream",
     "text": [
      "wandb: WARNING Source type is set to 'repo' but some required information is missing from the environment. A job will not be created from this run. See https://docs.wandb.ai/guides/launch/create-job\n"
     ]
    },
    {
     "data": {
      "text/html": [
       "<style>\n",
       "    table.wandb td:nth-child(1) { padding: 0 10px; text-align: left ; width: auto;} td:nth-child(2) {text-align: left ; width: 100%}\n",
       "    .wandb-row { display: flex; flex-direction: row; flex-wrap: wrap; justify-content: flex-start; width: 100% }\n",
       "    .wandb-col { display: flex; flex-direction: column; flex-basis: 100%; flex: 1; padding: 10px; }\n",
       "    </style>\n",
       "<div class=\"wandb-row\"><div class=\"wandb-col\"><h3>Run history:</h3><br/><table class=\"wandb\"><tr><td>eval/accuracy</td><td>▁▄▆▇▇▇▇███</td></tr><tr><td>eval/f1</td><td>▁▅▆▇▇█████</td></tr><tr><td>eval/loss</td><td>█▃▂▁▁▁▁▁▁▁</td></tr><tr><td>eval/precision</td><td>▁▄▆▇▇▇████</td></tr><tr><td>eval/recall</td><td>▁▄▆▇▇▇▇███</td></tr><tr><td>eval/runtime</td><td>▂▁▁▃██████</td></tr><tr><td>eval/samples_per_second</td><td>▆██▅▁▁▁▁▁▁</td></tr><tr><td>eval/steps_per_second</td><td>▆██▅▁▁▁▁▁▁</td></tr><tr><td>train/epoch</td><td>▁▁▂▂▃▃▃▄▄▅▅▆▆▆▇▇██</td></tr><tr><td>train/global_step</td><td>▁▁▂▂▃▃▃▄▄▅▅▆▆▆▇▇██████</td></tr><tr><td>train/learning_rate</td><td>█▇▆▅▃▂▁</td></tr><tr><td>train/loss</td><td>█▅▃▂▂▁▁</td></tr><tr><td>train/total_flos</td><td>▁</td></tr><tr><td>train/train_loss</td><td>▁</td></tr><tr><td>train/train_runtime</td><td>▁</td></tr><tr><td>train/train_samples_per_second</td><td>▁</td></tr><tr><td>train/train_steps_per_second</td><td>▁</td></tr></table><br/></div><div class=\"wandb-col\"><h3>Run summary:</h3><br/><table class=\"wandb\"><tr><td>class_report_test</td><td>              precis...</td></tr><tr><td>class_report_val</td><td>              precis...</td></tr><tr><td>eval/accuracy</td><td>0.84615</td></tr><tr><td>eval/f1</td><td>0.84774</td></tr><tr><td>eval/loss</td><td>0.59558</td></tr><tr><td>eval/precision</td><td>0.85596</td></tr><tr><td>eval/recall</td><td>0.84615</td></tr><tr><td>eval/runtime</td><td>1.4565</td></tr><tr><td>eval/samples_per_second</td><td>178.508</td></tr><tr><td>eval/steps_per_second</td><td>3.433</td></tr><tr><td>train/epoch</td><td>10.0</td></tr><tr><td>train/global_step</td><td>770</td></tr><tr><td>train/learning_rate</td><td>0.0</td></tr><tr><td>train/loss</td><td>0.095</td></tr><tr><td>train/total_flos</td><td>2403933685191600.0</td></tr><tr><td>train/train_loss</td><td>0.42449</td></tr><tr><td>train/train_runtime</td><td>409.1342</td></tr><tr><td>train/train_samples_per_second</td><td>120.352</td></tr><tr><td>train/train_steps_per_second</td><td>1.882</td></tr></table><br/></div></div>"
      ],
      "text/plain": [
       "<IPython.core.display.HTML object>"
      ]
     },
     "metadata": {},
     "output_type": "display_data"
    },
    {
     "data": {
      "text/html": [
       " View run <strong style=\"color:#cdcd00\">/data/enrico_benedetti/nihongoexample/preliminary phase/models</strong> at: <a href='https://wandb.ai/bennexx/jlpt-difficulty-classifier/runs/0mtus4po' target=\"_blank\">https://wandb.ai/bennexx/jlpt-difficulty-classifier/runs/0mtus4po</a><br/>Synced 6 W&B file(s), 2 media file(s), 6 artifact file(s) and 0 other file(s)"
      ],
      "text/plain": [
       "<IPython.core.display.HTML object>"
      ]
     },
     "metadata": {},
     "output_type": "display_data"
    },
    {
     "data": {
      "text/html": [
       "Find logs at: <code>./wandb/run-20240118_192541-0mtus4po/logs</code>"
      ],
      "text/plain": [
       "<IPython.core.display.HTML object>"
      ]
     },
     "metadata": {},
     "output_type": "display_data"
    }
   ],
   "source": [
    "wandb.finish()"
   ]
  },
  {
   "cell_type": "code",
   "execution_count": 22,
   "metadata": {},
   "outputs": [
    {
     "data": {
      "text/plain": [
       "[[{'label': 'N2', 'score': 0.9620075821876526},\n",
       "  {'label': 'N3', 'score': 0.028742173686623573},\n",
       "  {'label': 'N1', 'score': 0.006371599156409502},\n",
       "  {'label': 'N4', 'score': 0.002060162601992488},\n",
       "  {'label': 'N5', 'score': 0.0008184990147128701}]]"
      ]
     },
     "execution_count": 22,
     "metadata": {},
     "output_type": "execute_result"
    }
   ],
   "source": [
    "from transformers import TextClassificationPipeline\n",
    "\n",
    "classifier = TextClassificationPipeline(model=model, tokenizer=tokenizer, top_k=None, device=model.device)\n",
    "\n",
    "test_input = \"会話の中で質問を巧みに取り入れることで、深い理解が得られます。\" # seems not really working well...\n",
    "# test_input = '私は日本人です。'\n",
    "classifier(test_input)"
   ]
  },
  {
   "cell_type": "code",
   "execution_count": 5,
   "metadata": {},
   "outputs": [],
   "source": [
    "# push to hub\n",
    "# import wandb\n",
    "# run = wandb.init()\n",
    "# artifact = run.use_artifact('bennexx/jlpt-difficulty-classifier/model-0mtus4po:v0', type='model')\n",
    "# artifact_dir = artifact.download()\n",
    "# tokenizer = AutoTokenizer.from_pretrained(artifact_dir)\n",
    "# model = AutoModelForSequenceClassification.from_pretrained(artifact_dir, num_labels=5, id2label=id2label, label2id=label2id)\n",
    "# model.push_to_hub(\"cl-tohoku-bert-base-japanese-v3-jlpt-classifier\")\n",
    "# tokenizer.push_to_hub(\"cl-tohoku-bert-base-japanese-v3-jlpt-classifier\")"
   ]
  }
 ],
 "metadata": {
  "kernelspec": {
   "display_name": "nlp_env",
   "language": "python",
   "name": "python3"
  },
  "language_info": {
   "codemirror_mode": {
    "name": "ipython",
    "version": 3
   },
   "file_extension": ".py",
   "mimetype": "text/x-python",
   "name": "python",
   "nbconvert_exporter": "python",
   "pygments_lexer": "ipython3",
   "version": "3.8.18"
  },
  "orig_nbformat": 4
 },
 "nbformat": 4,
 "nbformat_minor": 2
}
