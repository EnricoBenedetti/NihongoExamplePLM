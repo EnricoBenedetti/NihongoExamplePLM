{
 "cells": [
  {
   "cell_type": "code",
   "execution_count": 1,
   "metadata": {},
   "outputs": [
    {
     "name": "stderr",
     "output_type": "stream",
     "text": [
      "/tmp/ipykernel_68351/1506600146.py:17: DtypeWarning: Columns (1) have mixed types. Specify dtype option on import or set low_memory=False.\n",
      "  df_attribution = pd.read_csv(attribution_file_decompressed, delimiter='\\t', header=None, names=['tatoeba_id', 'base_field'])\n"
     ]
    }
   ],
   "source": [
    "import bz2\n",
    "import tarfile\n",
    "import pandas as pd\n",
    "\n",
    "df = None\n",
    "\n",
    "jp_sentences_file = './jpn_sentences.tsv.bz2'\n",
    "attribution_file = './sentences_base.tar.bz2'\n",
    "attribution_file_decompressed = '.' + attribution_file.split('.')[-3] + '.csv'\n",
    "\n",
    "# read jp sentences\n",
    "with bz2.open(jp_sentences_file, 'rt') as file:\n",
    "    df = pd.read_csv(file, delimiter='\\t', header=None, names=['tatoeba_id','language','sentence'])\n",
    "# read attribution (translation or original)\n",
    "with tarfile.open(attribution_file, 'r:bz2') as tar:\n",
    "    tar.extractall()\n",
    "df_attribution = pd.read_csv(attribution_file_decompressed, delimiter='\\t', header=None, names=['tatoeba_id', 'base_field'])"
   ]
  },
  {
   "cell_type": "code",
   "execution_count": 2,
   "metadata": {},
   "outputs": [
    {
     "data": {
      "text/plain": [
       "language\n",
       "jpn    239380\n",
       "Name: count, dtype: int64"
      ]
     },
     "execution_count": 2,
     "metadata": {},
     "output_type": "execute_result"
    }
   ],
   "source": [
    "df.language.value_counts()"
   ]
  },
  {
   "cell_type": "code",
   "execution_count": 3,
   "metadata": {},
   "outputs": [],
   "source": [
    "# we don't really care about the sentence link so we delete the numbers > 0 (we keep 0, non0, and unknown)\n",
    "\n",
    "def process_base_field(field):\n",
    "    if field == '0':\n",
    "        return 'original'\n",
    "    elif field == '\\\\N':\n",
    "        return 'unknown'\n",
    "    else: return 'translation'\n",
    "\n",
    "df_attribution['base_field'] = df_attribution['base_field'].map(process_base_field)"
   ]
  },
  {
   "cell_type": "code",
   "execution_count": 4,
   "metadata": {},
   "outputs": [
    {
     "data": {
      "text/plain": [
       "((239380, 2), (239380, 3))"
      ]
     },
     "execution_count": 4,
     "metadata": {},
     "output_type": "execute_result"
    }
   ],
   "source": [
    "# we only care about the jp sentences\n",
    "df_attribution_jp = df_attribution[df_attribution['tatoeba_id'].isin(df['tatoeba_id'])]\n",
    "df_attribution_jp.shape, df.shape"
   ]
  },
  {
   "cell_type": "code",
   "execution_count": 5,
   "metadata": {},
   "outputs": [],
   "source": [
    "#(df_attribution_jp['base_field'] == '0').value_counts()"
   ]
  },
  {
   "cell_type": "code",
   "execution_count": 5,
   "metadata": {},
   "outputs": [],
   "source": [
    "# merge the information\n",
    "df = df.merge(df_attribution_jp, on='tatoeba_id')\n",
    "# add the source link\n",
    "df['source'] = 'https://tatoeba.org/en/downloads'"
   ]
  },
  {
   "cell_type": "code",
   "execution_count": 6,
   "metadata": {},
   "outputs": [],
   "source": [
    "info_columns = ['source', 'tatoeba_id', 'base_field']\n",
    "df['info'] = df[info_columns].to_dict(orient='records')"
   ]
  },
  {
   "cell_type": "code",
   "execution_count": 7,
   "metadata": {},
   "outputs": [
    {
     "data": {
      "text/html": [
       "<div>\n",
       "<style scoped>\n",
       "    .dataframe tbody tr th:only-of-type {\n",
       "        vertical-align: middle;\n",
       "    }\n",
       "\n",
       "    .dataframe tbody tr th {\n",
       "        vertical-align: top;\n",
       "    }\n",
       "\n",
       "    .dataframe thead th {\n",
       "        text-align: right;\n",
       "    }\n",
       "</style>\n",
       "<table border=\"1\" class=\"dataframe\">\n",
       "  <thead>\n",
       "    <tr style=\"text-align: right;\">\n",
       "      <th></th>\n",
       "      <th>sentence</th>\n",
       "      <th>info</th>\n",
       "    </tr>\n",
       "  </thead>\n",
       "  <tbody>\n",
       "    <tr>\n",
       "      <th>0</th>\n",
       "      <td>きみにちょっとしたものをもってきたよ。</td>\n",
       "      <td>{'source': 'https://tatoeba.org/en/downloads',...</td>\n",
       "    </tr>\n",
       "    <tr>\n",
       "      <th>1</th>\n",
       "      <td>何かしてみましょう。</td>\n",
       "      <td>{'source': 'https://tatoeba.org/en/downloads',...</td>\n",
       "    </tr>\n",
       "    <tr>\n",
       "      <th>2</th>\n",
       "      <td>私は眠らなければなりません。</td>\n",
       "      <td>{'source': 'https://tatoeba.org/en/downloads',...</td>\n",
       "    </tr>\n",
       "    <tr>\n",
       "      <th>3</th>\n",
       "      <td>何してるの？</td>\n",
       "      <td>{'source': 'https://tatoeba.org/en/downloads',...</td>\n",
       "    </tr>\n",
       "    <tr>\n",
       "      <th>4</th>\n",
       "      <td>今日は６月１８日で、ムーリエルの誕生日です！</td>\n",
       "      <td>{'source': 'https://tatoeba.org/en/downloads',...</td>\n",
       "    </tr>\n",
       "    <tr>\n",
       "      <th>...</th>\n",
       "      <td>...</td>\n",
       "      <td>...</td>\n",
       "    </tr>\n",
       "    <tr>\n",
       "      <th>239375</th>\n",
       "      <td>ワインをお願い。</td>\n",
       "      <td>{'source': 'https://tatoeba.org/en/downloads',...</td>\n",
       "    </tr>\n",
       "    <tr>\n",
       "      <th>239376</th>\n",
       "      <td>彼らは私の話を信じようとしなかった。</td>\n",
       "      <td>{'source': 'https://tatoeba.org/en/downloads',...</td>\n",
       "    </tr>\n",
       "    <tr>\n",
       "      <th>239377</th>\n",
       "      <td>ハロウィンの仮装だよ。</td>\n",
       "      <td>{'source': 'https://tatoeba.org/en/downloads',...</td>\n",
       "    </tr>\n",
       "    <tr>\n",
       "      <th>239378</th>\n",
       "      <td>トムの誕生日に、新しい自転車をプレゼントするんだ。</td>\n",
       "      <td>{'source': 'https://tatoeba.org/en/downloads',...</td>\n",
       "    </tr>\n",
       "    <tr>\n",
       "      <th>239379</th>\n",
       "      <td>明日はもっと寒くなるよ。</td>\n",
       "      <td>{'source': 'https://tatoeba.org/en/downloads',...</td>\n",
       "    </tr>\n",
       "  </tbody>\n",
       "</table>\n",
       "<p>239380 rows × 2 columns</p>\n",
       "</div>"
      ],
      "text/plain": [
       "                         sentence  \\\n",
       "0             きみにちょっとしたものをもってきたよ。   \n",
       "1                      何かしてみましょう。   \n",
       "2                  私は眠らなければなりません。   \n",
       "3                          何してるの？   \n",
       "4          今日は６月１８日で、ムーリエルの誕生日です！   \n",
       "...                           ...   \n",
       "239375                   ワインをお願い。   \n",
       "239376         彼らは私の話を信じようとしなかった。   \n",
       "239377                ハロウィンの仮装だよ。   \n",
       "239378  トムの誕生日に、新しい自転車をプレゼントするんだ。   \n",
       "239379               明日はもっと寒くなるよ。   \n",
       "\n",
       "                                                     info  \n",
       "0       {'source': 'https://tatoeba.org/en/downloads',...  \n",
       "1       {'source': 'https://tatoeba.org/en/downloads',...  \n",
       "2       {'source': 'https://tatoeba.org/en/downloads',...  \n",
       "3       {'source': 'https://tatoeba.org/en/downloads',...  \n",
       "4       {'source': 'https://tatoeba.org/en/downloads',...  \n",
       "...                                                   ...  \n",
       "239375  {'source': 'https://tatoeba.org/en/downloads',...  \n",
       "239376  {'source': 'https://tatoeba.org/en/downloads',...  \n",
       "239377  {'source': 'https://tatoeba.org/en/downloads',...  \n",
       "239378  {'source': 'https://tatoeba.org/en/downloads',...  \n",
       "239379  {'source': 'https://tatoeba.org/en/downloads',...  \n",
       "\n",
       "[239380 rows x 2 columns]"
      ]
     },
     "execution_count": 7,
     "metadata": {},
     "output_type": "execute_result"
    }
   ],
   "source": [
    "# drop language and other info\n",
    "df.drop('language', axis='columns', inplace=True)\n",
    "df_clean = df.drop(info_columns, axis='columns')\n",
    "df_sentence_only = df_clean['sentence']\n",
    "\n",
    "df_clean.to_csv('tatoeba_info.csv')\n",
    "df_sentence_only.to_csv('tatoeba.csv')\n",
    "\n",
    "df_clean"
   ]
  },
  {
   "cell_type": "code",
   "execution_count": 8,
   "metadata": {},
   "outputs": [
    {
     "data": {
      "text/plain": [
       "base_field\n",
       "unknown        148005\n",
       "translation     81809\n",
       "original         9566\n",
       "Name: count, dtype: int64"
      ]
     },
     "execution_count": 8,
     "metadata": {},
     "output_type": "execute_result"
    }
   ],
   "source": [
    "df['base_field'].value_counts()"
   ]
  },
  {
   "cell_type": "code",
   "execution_count": 9,
   "metadata": {},
   "outputs": [],
   "source": [
    "#pd.json_normalize(df['info'])"
   ]
  }
 ],
 "metadata": {
  "kernelspec": {
   "display_name": "nlp_env",
   "language": "python",
   "name": "python3"
  },
  "language_info": {
   "codemirror_mode": {
    "name": "ipython",
    "version": 3
   },
   "file_extension": ".py",
   "mimetype": "text/x-python",
   "name": "python",
   "nbconvert_exporter": "python",
   "pygments_lexer": "ipython3",
   "version": "3.8.18"
  },
  "orig_nbformat": 4
 },
 "nbformat": 4,
 "nbformat_minor": 2
}
